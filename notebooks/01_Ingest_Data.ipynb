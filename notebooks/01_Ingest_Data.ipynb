{
 "cells": [
  {
   "cell_type": "markdown",
   "id": "8cf0d554",
   "metadata": {},
   "source": [
    "# 📥 Notebook 01: Ingest Crypto Data from CoinGecko API\n",
    "\n",
    "This notebook ingests historical market data for selected cryptocurrencies using the public CoinGecko API. It prepares the data for further transformation and Delta Lake storage.\n"
   ]
  },
  {
   "cell_type": "markdown",
   "id": "891d0638",
   "metadata": {},
   "source": [
    "# 🧪 Step 1: Ingest Crypto Data from CoinGecko API\n",
    "\n",
    "This notebook initializes the PySpark session and fetches historical price data for Bitcoin using the CoinGecko API.\n"
   ]
  },
  {
   "cell_type": "code",
   "execution_count": 5,
   "id": "e7265f72",
   "metadata": {},
   "outputs": [],
   "source": [
    "from pyspark.sql import SparkSession\n",
    "\n",
    "# Create Spark session\n",
    "spark = SparkSession.builder \\\n",
    "    .appName(\"Crypto Ingestion\") \\\n",
    "    .getOrCreate()\n"
   ]
  },
  {
   "cell_type": "markdown",
   "id": "14429eeb",
   "metadata": {},
   "source": [
    "## 🔌 Step 2: Import API Utility Function\n",
    "\n",
    "We will use a custom helper function from `src/api_utils.py` to retrieve 30 days of historical price data for Bitcoin.\n"
   ]
  },
  {
   "cell_type": "code",
   "execution_count": 6,
   "id": "e7786f65",
   "metadata": {},
   "outputs": [
    {
     "data": {
      "text/html": [
       "<div>\n",
       "<style scoped>\n",
       "    .dataframe tbody tr th:only-of-type {\n",
       "        vertical-align: middle;\n",
       "    }\n",
       "\n",
       "    .dataframe tbody tr th {\n",
       "        vertical-align: top;\n",
       "    }\n",
       "\n",
       "    .dataframe thead th {\n",
       "        text-align: right;\n",
       "    }\n",
       "</style>\n",
       "<table border=\"1\" class=\"dataframe\">\n",
       "  <thead>\n",
       "    <tr style=\"text-align: right;\">\n",
       "      <th></th>\n",
       "      <th>timestamp</th>\n",
       "      <th>price</th>\n",
       "    </tr>\n",
       "  </thead>\n",
       "  <tbody>\n",
       "    <tr>\n",
       "      <th>0</th>\n",
       "      <td>2025-04-09 21:05:41.946</td>\n",
       "      <td>83004.702761</td>\n",
       "    </tr>\n",
       "    <tr>\n",
       "      <th>1</th>\n",
       "      <td>2025-04-09 22:04:42.421</td>\n",
       "      <td>83315.439591</td>\n",
       "    </tr>\n",
       "    <tr>\n",
       "      <th>2</th>\n",
       "      <td>2025-04-09 23:04:59.794</td>\n",
       "      <td>83058.347759</td>\n",
       "    </tr>\n",
       "    <tr>\n",
       "      <th>3</th>\n",
       "      <td>2025-04-10 00:04:50.148</td>\n",
       "      <td>82595.426680</td>\n",
       "    </tr>\n",
       "    <tr>\n",
       "      <th>4</th>\n",
       "      <td>2025-04-10 01:04:28.190</td>\n",
       "      <td>82182.124707</td>\n",
       "    </tr>\n",
       "  </tbody>\n",
       "</table>\n",
       "</div>"
      ],
      "text/plain": [
       "                timestamp         price\n",
       "0 2025-04-09 21:05:41.946  83004.702761\n",
       "1 2025-04-09 22:04:42.421  83315.439591\n",
       "2 2025-04-09 23:04:59.794  83058.347759\n",
       "3 2025-04-10 00:04:50.148  82595.426680\n",
       "4 2025-04-10 01:04:28.190  82182.124707"
      ]
     },
     "execution_count": 6,
     "metadata": {},
     "output_type": "execute_result"
    }
   ],
   "source": [
    "import sys\n",
    "sys.path.append(\"../src\")\n",
    "\n",
    "from api_utils import get_market_data\n",
    "\n",
    "# Get Bitcoin data (returns Pandas DataFrame)\n",
    "btc_df = get_market_data(\"bitcoin\", \"usd\", 30)\n",
    "btc_df.head()\n"
   ]
  },
  {
   "cell_type": "markdown",
   "id": "49eaff4b",
   "metadata": {},
   "source": [
    "## 🔄 Step 3: Convert to Spark DataFrame\n",
    "\n",
    "Now we convert the Pandas DataFrame to a Spark DataFrame for distributed processing.\n"
   ]
  },
  {
   "cell_type": "code",
   "execution_count": 7,
   "id": "54aa4a19",
   "metadata": {},
   "outputs": [
    {
     "name": "stdout",
     "output_type": "stream",
     "text": [
      "+--------------------+-----------------+\n",
      "|           timestamp|            price|\n",
      "+--------------------+-----------------+\n",
      "|2025-04-09 21:05:...| 83004.7027605787|\n",
      "|2025-04-09 22:04:...|83315.43959137528|\n",
      "|2025-04-09 23:04:...|83058.34775924393|\n",
      "|2025-04-10 00:04:...|82595.42668033838|\n",
      "|2025-04-10 01:04:...|82182.12470713933|\n",
      "+--------------------+-----------------+\n",
      "only showing top 5 rows\n",
      "\n",
      "root\n",
      " |-- timestamp: timestamp (nullable = true)\n",
      " |-- price: double (nullable = true)\n",
      "\n"
     ]
    }
   ],
   "source": [
    "# Convert to Spark DataFrame\n",
    "btc_spark_df = spark.createDataFrame(btc_df)\n",
    "\n",
    "# Display first 5 rows\n",
    "btc_spark_df.show(5)\n",
    "\n",
    "# Optional: Inspect schema\n",
    "btc_spark_df.printSchema()\n"
   ]
  }
 ],
 "metadata": {
  "kernelspec": {
   "display_name": "Python 3",
   "language": "python",
   "name": "python3"
  },
  "language_info": {
   "codemirror_mode": {
    "name": "ipython",
    "version": 3
   },
   "file_extension": ".py",
   "mimetype": "text/x-python",
   "name": "python",
   "nbconvert_exporter": "python",
   "pygments_lexer": "ipython3",
   "version": "3.12.1"
  }
 },
 "nbformat": 4,
 "nbformat_minor": 5
}
